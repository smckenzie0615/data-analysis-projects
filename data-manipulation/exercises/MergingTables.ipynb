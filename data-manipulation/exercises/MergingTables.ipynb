{
 "cells": [
  {
   "cell_type": "code",
   "execution_count": null,
   "id": "2ea67098",
   "metadata": {},
   "outputs": [],
   "source": [
    "import pandas as pd"
   ]
  },
  {
   "cell_type": "markdown",
   "id": "2cb2eb77",
   "metadata": {},
   "source": [
    "Note about the data sets.  Context is contained within the README page which is in this same folder as this notebook."
   ]
  },
  {
   "cell_type": "markdown",
   "id": "61e60715",
   "metadata": {},
   "source": [
    "# *Data Manipulation Notebook 2:*  Appending, Concatinating, Merging, and Joining Tables"
   ]
  },
  {
   "cell_type": "code",
   "execution_count": null,
   "id": "91da9073",
   "metadata": {},
   "outputs": [],
   "source": [
    "flowers = pd.DataFrame({\n",
    "    \"Name\" : [\"Iris\", \"Peony\", \"Daisy\", \"Petunia\", \"Impatiens\", \"Creeping Myrtle\"], \n",
    "    \"Plant_Type\" : [\"Perennial\", \"Perennial\",\"Annual\", \"Annual\", \"Annual\", \"Perennial\"],\n",
    "    \"Sun_Shade\": [\"Full Sun\", \"Full Sun\", \"Partial Sun\", \"Partial Sun\", \"Partial Shade\", \"Full Shade\" ]\n",
    "    \n",
    "})\n",
    "\n",
    "garden_supply = pd.DataFrame({\n",
    "    \"Flower\" : [\"Daylily\",\"Iris\", \"Peony\",\"Petunia\", \"Petunia\", \"Impatiens\", \"Coneflower\"],\n",
    "    \"Sold_As\" : [\"Container\", \"Bulb Pack\", \"Root Pack\",\"Container Pack\", \"Mixed Container\", \"Container Pack\", \"Container\"],\n",
    "    \"Amt_Package\" : [1, 25, 5, 4, 1, 4, 1]\n",
    "})\n",
    "\n",
    "shrubs = pd.DataFrame({\n",
    "    \"Name\" : [\"Boxwood\", \"Hydrangea\", \"Dipladenia\", \"Gardenia\"], \n",
    "    \"Plant_Type\" : [\"Evergreen\", \"Flowering\", \"Flowering\", \"Flowering\"],\n",
    "    \"Sun_Shade\": [\"Partial Sun\", \"Partial Sun\", \"Partial Shade\", \"Full Sun\" ]\n",
    "})"
   ]
  },
  {
   "cell_type": "code",
   "execution_count": null,
   "id": "265c75dd",
   "metadata": {},
   "outputs": [],
   "source": [
    "#1. Examine the flowers table here:\n"
   ]
  },
  {
   "cell_type": "code",
   "execution_count": null,
   "id": "8fa98431",
   "metadata": {},
   "outputs": [],
   "source": [
    "# 2. Examine the garden_supply table here:\n"
   ]
  },
  {
   "cell_type": "code",
   "execution_count": null,
   "id": "c8e82436",
   "metadata": {},
   "outputs": [],
   "source": [
    "# 3. Examine the shrubs table here:\n"
   ]
  },
  {
   "cell_type": "markdown",
   "id": "03c6e4ad",
   "metadata": {},
   "source": [
    "<span style=\"background-color:dodgerblue; color:dodgerblue;\">- - - - - - - - - - - - - - - - - - - - - - - - - - - - - - - - - - - - - - - - - - - - - - - - - - - - - - - - - - - - - - - - - - - - - - - - - - - - - - - - - - - - - - - - -</span> "
   ]
  },
  {
   "cell_type": "markdown",
   "id": "e20a8607",
   "metadata": {},
   "source": [
    "# Part 1: Append \n",
    "\n",
    "Reading:\n",
    "1. [Python – Pandas dataframe.append()](https://www.geeksforgeeks.org/python-pandas-dataframe-append/)"
   ]
  },
  {
   "cell_type": "markdown",
   "id": "2cade0d6",
   "metadata": {},
   "source": [
    "**Append** is a method that allows you to add additional rows to a dataset.\n",
    "\n",
    "NOTE (from the reading above): As of Pandas version 2.0, the Pandas append() method is no longer in use. It is important to keep this in mind while working with Pandas. More efficient alternatives for concatenating DataFrames are the .concat() function from the pandas.DataFrame module.\n",
    "\n",
    "Because of append() being deprecated, please skip to Part 2"
   ]
  },
  {
   "cell_type": "markdown",
   "id": "fd457c92",
   "metadata": {},
   "source": [
    "<span style=\"background-color:dodgerblue; color:dodgerblue;\">- - - - - - - - - - - - - - - - - - - - - - - - - - - - - - - - - - - - - - - - - - - - - - - - - - - - - - - - - - - - - - - - - - - - - - - - - - - - - - - - - - - - - - - - -</span> "
   ]
  },
  {
   "cell_type": "markdown",
   "id": "869b81e3",
   "metadata": {},
   "source": [
    "# Part 2: Concatenation\n",
    "\n",
    "Reading:\n",
    "1. [pandas.concat() function in Python](https://www.geeksforgeeks.org/pandas-concat-function-in-python/)"
   ]
  },
  {
   "cell_type": "markdown",
   "id": "c0b19be7",
   "metadata": {},
   "source": [
    "**Concatenation** means to chain or link things together.  The **concat()** method is very similar to **append()**.\n",
    "Like with **append()**, **concat()** can add rows to a table, or add to the 0 axis.  However, **concat()** can also add horizontally on the 1 axis, and by assigning **keys**.\n",
    "\n",
    "To **concat()** more rows to a table, the syntax is similar to **append()**:   \n",
    "Syntax:  **table_1_name.concat(table_2_name)**\n",
    "\n"
   ]
  },
  {
   "cell_type": "code",
   "execution_count": null,
   "id": "98ca31ae",
   "metadata": {},
   "outputs": [],
   "source": [
    "# Concatenate with flowers\n",
    "\n",
    "# Look at the code below, in your own words what are the\"keys\" and how do they work?\n",
    "\n",
    "flowers_shrubs = pd.concat([flowers, shrubs], keys=[\"Flowers\", \"Shrubs\"])\n"
   ]
  },
  {
   "cell_type": "code",
   "execution_count": null,
   "id": "71c5fe1d",
   "metadata": {},
   "outputs": [],
   "source": [
    "# Concatenate flowers and shrubs horizontally here:\n"
   ]
  },
  {
   "cell_type": "markdown",
   "id": "5646ff5f",
   "metadata": {},
   "source": [
    "<span style=\"background-color:dodgerblue; color:dodgerblue;\">- - - - - - - - - - - - - - - - - - - - - - - - - - - - - - - - - - - - - - - - - - - - - - - - - - - - - - - - - - - - - - - - - - - - - - - - - - - - - - - - - - - - - - - - -</span> "
   ]
  },
  {
   "cell_type": "markdown",
   "id": "a67ac6ea",
   "metadata": {},
   "source": [
    "# Part 3:  Merge \n",
    "\n",
    "Reading for Parts 3 and 4\n",
    "1. [Pandas Merge (Join Data) | pd.DataFrame.merge()](https://www.youtube.com/watch?v=xcN3s3Kij_8)\n",
    "    1. 5 minute YouTube video\n",
    "1. [Why and How to Use Merge with Pandas in Python](https://towardsdatascience.com/why-and-how-to-use-merge-with-pandas-in-python-548600f7e738)"
   ]
  },
  {
   "cell_type": "code",
   "execution_count": null,
   "id": "0b0f427f",
   "metadata": {},
   "outputs": [],
   "source": [
    "# Run this code: (uncomment)\n",
    "flowers.merge(garden_supply)\n",
    "\n",
    "# Using the error information given to us, why isn't this code working?\n",
    "\n"
   ]
  },
  {
   "cell_type": "markdown",
   "id": "ab35b607",
   "metadata": {},
   "source": [
    "In order to merge a table, you need to identify a shared column between the tables.  This is often referred to as a **\"key\"**.\n",
    "\n",
    "Our tables both have a column of flower names.  However, the names of the columns are not the same.\n",
    "There are two options we can take in order to use the names of the flower as the key.\n",
    "\n",
    "Option 1 is to **rename** one of the columns.  \n",
    "\n",
    "Option 2 is to inform the **merge** method which columns to use as the key.\n",
    "\n",
    "We are going to try both."
   ]
  },
  {
   "cell_type": "markdown",
   "id": "396593ce",
   "metadata": {},
   "source": [
    "### Option 1:  Rename a column in the flowers table.\n",
    "\n",
    "Create a variable to hold your updated table.  \n",
    "apply the following syntax to update your column names: **table_name.rename(columns={\"original_name\": \"new_name\"})**"
   ]
  },
  {
   "cell_type": "code",
   "execution_count": null,
   "id": "f275d8c6",
   "metadata": {},
   "outputs": [],
   "source": [
    "# Code Option 1 here.  Be sure to run your table before moving on to option 2."
   ]
  },
  {
   "cell_type": "markdown",
   "id": "240fd2d4",
   "metadata": {},
   "source": [
    "#### Test Option 1 results:\n",
    "Merge garden_supply with the updated table you created above and store it in a new variable.\n",
    "Run your newly merged table and examine it."
   ]
  },
  {
   "cell_type": "code",
   "execution_count": null,
   "id": "9d5ddf17",
   "metadata": {},
   "outputs": [],
   "source": [
    "# Test Option 1 here:"
   ]
  },
  {
   "cell_type": "markdown",
   "id": "7c9200d0",
   "metadata": {},
   "source": [
    "### Option 2: Using the merge method's parameters \"left_on\" & \"right_on\"\n",
    "\n",
    "Option 2 can be used if you would rather not rename any columns.\n",
    "Using the syntax below as a guide, create a table where you merge the *flowers* table on the \"Name\" column and the *garden_supply* on the \"Flower\" column.  Set your tables up where *flowers* is on the left and *garden_supply* on the right\n",
    "    \n",
    "Syntax:  **left_table.merge(right_table, left_on=\"column_name\", right_on=\"column_name\")**"
   ]
  },
  {
   "cell_type": "code",
   "execution_count": null,
   "id": "c13290b3",
   "metadata": {},
   "outputs": [],
   "source": [
    "# Code Option 2 here:\n"
   ]
  },
  {
   "cell_type": "markdown",
   "id": "7badc6e0",
   "metadata": {},
   "source": [
    "### Sytnax Exploring:\n",
    "Using the syntax in Option 2, perform the same merge, but this time *garden_supply* on the left and *flowers* on the right.  What do you notice?"
   ]
  },
  {
   "cell_type": "code",
   "execution_count": null,
   "id": "0e3dc0da",
   "metadata": {},
   "outputs": [],
   "source": [
    "#  Code your Syntax Exploration here:\n"
   ]
  },
  {
   "cell_type": "markdown",
   "id": "d653bc84",
   "metadata": {},
   "source": [
    "<span style=\"background-color:dodgerblue; color:dodgerblue;\">- - - - - - - - - - - - - - - - - - - - - - - - - - - - - - - - - - - - - - - - - - - - - - - - - - - - - - - - - - - - - - - - - - - - - - - - - - - - - - - - - - - - - - - - -</span> "
   ]
  },
  {
   "cell_type": "markdown",
   "id": "518b0605",
   "metadata": {},
   "source": [
    "# Part 4:  Types of Merges \n",
    "\n",
    "Merging is another way of providing you with ways to explore and understand your data.  Merging the entire table is great if the table is small, like our current example.  But think back to the data sets you have worked with so far.  Some have over a dozen columns.  \n",
    "\n",
    "Merging works by creating a new table from related items.  There are 4 main types of merges that we are going to begin exploring: *inner, left, right, outer.* \n",
    "\n",
    "The syntax for merge(): **DataFrame.merge(right, how='inner', on=None, left_on=None, right_on=None, left_index=False, right_index=False, sort=False, suffixes=('_x', '_y'), copy=True, indicator=False, validate=None)** [source](https://pandas.pydata.org/pandas-docs/stable/reference/api/pandas.DataFrame.merge.html)\n",
    "\n",
    "As we explore the types of merges, we are going to focus on the following parameters: **how**, **left_on**, **right_on**.  \n",
    "\n",
    "Pandas documentation for **how**:\n",
    "> **how : {‘left’, ‘right’, ‘outer’, ‘inner’, ‘cross’}, default ‘inner’**\n",
    ">> Type of merge to be performed.\n",
    ">> - **left**: use only keys from left frame, similar to a SQL left outer join; preserve key order.\n",
    ">> - **right**: use only keys from right frame, similar to a SQL right outer join; preserve key order.\n",
    ">> - **outer**: use union of keys from both frames, similar to a SQL full outer join; sort keys lexicographically.\n",
    ">> - **inner**: use intersection of keys from both frames, similar to a SQL inner join; preserve the order of the left keys.\n",
    "\n",
    "[source](https://pandas.pydata.org/pandas-docs/stable/reference/api/pandas.DataFrame.merge.html)\n",
    "\n",
    "*Note*: SQL is a language designed for working with databases.  Depending on the lesson order for this cohort, you will have already become familiar with SQL. Otherwise, it will be covered in-depth in upcoming lessons.\n",
    "\n",
    "Pandas documentation for **left_on** and **right_on**:\n",
    ">**left_on**: label or list, or array-like\n",
    ">>Column or index level names to join on in the left DataFrame. Can also be an array or list of arrays of the length of the left DataFrame. These arrays are treated as if they are columns.\n",
    "\n",
    ">**right_on**: label or list, or array-like\n",
    ">>Column or index level names to join on in the right DataFrame. Can also be an array or list of arrays of the length of the right DataFrame. These arrays are treated as if they are columns.\n",
    "\n",
    "[source](https://pandas.pydata.org/pandas-docs/stable/reference/api/pandas.DataFrame.merge.html)\n",
    "\n",
    "*Note*:  We will add the following parameter, **indicator**, to help us visualize how the tables are being merged together.  You will see a new column added because of this parameter, **_merge**.  "
   ]
  },
  {
   "cell_type": "markdown",
   "id": "bb99662c",
   "metadata": {},
   "source": [
    "### Before you begin merging  \n",
    "You can decide which way you want them to merge **on**.  You can decide to use the table where you renamed your columns, or you can keep your tables as they are and use the **left_on** and **right_on** parameters.  If you are not sure, try both options and see which you like best."
   ]
  },
  {
   "cell_type": "markdown",
   "id": "d3caac1e",
   "metadata": {},
   "source": [
    "## 4a: Inner Merge"
   ]
  },
  {
   "cell_type": "code",
   "execution_count": null,
   "id": "3f868d9a",
   "metadata": {},
   "outputs": [],
   "source": [
    "inner = pd.merge(flowers, garden_supply, how=\"inner\", left_on=\"Name\", right_on=\"Flower\", indicator=True)\n",
    "inner"
   ]
  },
  {
   "cell_type": "code",
   "execution_count": null,
   "id": "1033af35",
   "metadata": {},
   "outputs": [],
   "source": [
    "# Explain this table.  Why these values, when "
   ]
  },
  {
   "cell_type": "markdown",
   "id": "80a2e0cb",
   "metadata": {},
   "source": [
    "## 4b: Left Merge"
   ]
  },
  {
   "cell_type": "code",
   "execution_count": null,
   "id": "e6eabfbc",
   "metadata": {},
   "outputs": [],
   "source": [
    "# Create a left merge table:\n",
    "\n"
   ]
  },
  {
   "cell_type": "markdown",
   "id": "fd4dc955",
   "metadata": {},
   "source": [
    "## 4c: Right Merge"
   ]
  },
  {
   "cell_type": "code",
   "execution_count": null,
   "id": "48eac82a",
   "metadata": {},
   "outputs": [],
   "source": [
    "right = pd.merge(flowers, garden_supply, how=\"right\", left_on=\"Name\", right_on=\"Flower\", indicator=True)\n",
    "right"
   ]
  },
  {
   "cell_type": "code",
   "execution_count": null,
   "id": "18f4c32b",
   "metadata": {},
   "outputs": [],
   "source": [
    "# The syntax for right merge has been provided.\n",
    "# In your own words, explain how it is different from the left merge in 4b:\n",
    "\n"
   ]
  },
  {
   "cell_type": "markdown",
   "id": "62702b32",
   "metadata": {},
   "source": [
    "## Outer Merge"
   ]
  },
  {
   "cell_type": "code",
   "execution_count": null,
   "id": "23599c22",
   "metadata": {},
   "outputs": [],
   "source": [
    "# Create an outer merge table here:\n",
    "\n"
   ]
  },
  {
   "cell_type": "markdown",
   "id": "d304c06a",
   "metadata": {},
   "source": [
    "## Anti_Merge\n",
    "\n",
    "An **Anti Merge** is a merge based on what is leftout.  This is not an actual table, but you can create one with a little code and logic.  Read through the code below to see one way to create an anti-table."
   ]
  },
  {
   "cell_type": "code",
   "execution_count": null,
   "id": "20502209",
   "metadata": {},
   "outputs": [],
   "source": [
    "left_join = flowers.merge(garden_supply, how=\"left\", left_on=\"Name\", right_on=\"Flower\", indicator=True)\n",
    "left_join"
   ]
  },
  {
   "cell_type": "code",
   "execution_count": null,
   "id": "187fe03d",
   "metadata": {},
   "outputs": [],
   "source": [
    "left_only = left_join.loc[left_join[\"_merge\"] ==\"left_only\", \"Name\"]\n",
    "left_only"
   ]
  },
  {
   "cell_type": "code",
   "execution_count": null,
   "id": "a71c3a6a",
   "metadata": {},
   "outputs": [],
   "source": [
    "left_only_flowers=flowers[flowers[\"Name\"].isin(left_only)]\n",
    "left_only_flowers"
   ]
  },
  {
   "cell_type": "code",
   "execution_count": null,
   "id": "ec84d2db",
   "metadata": {},
   "outputs": [],
   "source": [
    "# In your own words, how did we create the \"left_only_flowers\" table?  \n",
    "# How does the syntax work?  \n",
    "\n",
    "\n"
   ]
  },
  {
   "cell_type": "markdown",
   "id": "e4e74e53",
   "metadata": {},
   "source": [
    "<span style=\"background-color:dodgerblue; color:dodgerblue;\">- - - - - - - - - - - - - - - - - - - - - - - - - - - - - - - - - - - - - - - - - - - - - - - - - - - - - - - - - - - - - - - - - - - - - - - - - - - - - - - - - - - - - - - - -</span> "
   ]
  },
  {
   "cell_type": "markdown",
   "id": "c08565e0",
   "metadata": {},
   "source": [
    "# Part 5: Join\n",
    "\n",
    "Reading List:\n",
    "1. [Pandas Join vs. Merge](https://towardsdatascience.com/pandas-join-vs-merge-c365fd4fbf49)\n",
    "1. [pandas.DataFrame.join](https://pandas.pydata.org/docs/reference/api/pandas.DataFrame.join.html)"
   ]
  },
  {
   "cell_type": "markdown",
   "id": "14c4a89a",
   "metadata": {},
   "source": [
    "The pandas library also contains a join method.  It has fewer parameters than merge, but can still be useful.\n",
    "\n",
    "The parameter that we are going to look at in this last section is **how**.\n",
    "\n",
    "From the pandas documentation:\n",
    "\n",
    "> **how : {‘left’, ‘right’, ‘outer’, ‘inner’}, default ‘left’:**\n",
    ">> How to handle the operation of the two objects.\n",
    ">> - **left**: use calling frame’s index (or column if on is specified)\n",
    ">> - **right**: use other frame's index.\n",
    ">> - **outer**: form union of calling frame’s index (or column if **on** is specified) with other frame's index, and sort it lexicographically.\n",
    ">> - **inner**: form intersection of calling frame’s index (or column if **on** is specified) with other frame's index, preserving the order of the returned data using the calling frame's order.\n",
    "\n"
   ]
  },
  {
   "cell_type": "code",
   "execution_count": null,
   "id": "d21a3d0b",
   "metadata": {},
   "outputs": [],
   "source": [
    "join = flowers.join(garden_supply)\n",
    "join"
   ]
  },
  {
   "cell_type": "code",
   "execution_count": null,
   "id": "a7cfda58",
   "metadata": {},
   "outputs": [],
   "source": [
    "# create a \"join_outer\" table that outer joins garden_supply and flowers:\n",
    "\n",
    "# run you table:\n"
   ]
  },
  {
   "cell_type": "code",
   "execution_count": null,
   "id": "713b4362",
   "metadata": {},
   "outputs": [],
   "source": [
    "# SOLUTION\n",
    "join_outer = garden_supply.join(flowers, how=\"outer\")\n",
    "join_outer"
   ]
  },
  {
   "cell_type": "code",
   "execution_count": null,
   "id": "46081c3c",
   "metadata": {},
   "outputs": [],
   "source": [
    "# Based on what an outer join does, look closely at the table \"join_outer\".  \n",
    "# Explain how these table elements are indexed.\n",
    "\n"
   ]
  }
 ],
 "metadata": {
  "kernelspec": {
   "display_name": "Python 3",
   "language": "python",
   "name": "python3"
  },
  "language_info": {
   "codemirror_mode": {
    "name": "ipython",
    "version": 3
   },
   "file_extension": ".py",
   "mimetype": "text/x-python",
   "name": "python",
   "nbconvert_exporter": "python",
   "pygments_lexer": "ipython3",
   "version": "3.9.6"
  }
 },
 "nbformat": 4,
 "nbformat_minor": 5
}
