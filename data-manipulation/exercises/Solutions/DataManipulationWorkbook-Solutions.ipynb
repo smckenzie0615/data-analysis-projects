{
 "cells": [
  {
   "cell_type": "markdown",
   "id": "d2d52186",
   "metadata": {},
   "source": [
    "# Welcome to the Data Manipulation Lesson.\n",
    "## Notebook 1\n",
    "\n",
    "The workbook has been broken up into sections.  Each section has an article for you to read, be presented with a few questions to check your understanding, and code for you to work with related to the reading topics.\n"
   ]
  },
  {
   "cell_type": "code",
   "execution_count": null,
   "id": "b781c5c2",
   "metadata": {},
   "outputs": [],
   "source": [
    "import pandas as pd\n",
    "import numpy as np\n",
    "\n",
    "data = pd.read_csv(\"titanic.csv\")"
   ]
  },
  {
   "cell_type": "markdown",
   "id": "2a701fe6",
   "metadata": {},
   "source": [
    "## Before You Get Started\n",
    "\n",
    "We are going to be using the Titanic Dataset. Make sure to run a head() before you start working with manipulation methods."
   ]
  },
  {
   "cell_type": "code",
   "execution_count": null,
   "id": "bfa6771a",
   "metadata": {},
   "outputs": [],
   "source": [
    "# Run the head of your data set here:\n"
   ]
  },
  {
   "cell_type": "code",
   "execution_count": null,
   "id": "90fb6f46",
   "metadata": {},
   "outputs": [],
   "source": [
    "# check for duplicates\n",
    "data.duplicated().sum()"
   ]
  },
  {
   "cell_type": "code",
   "execution_count": null,
   "id": "dddfd9e9",
   "metadata": {},
   "outputs": [],
   "source": [
    "# if there are, go ahead and drop them:\n",
    "data.drop_duplicates()"
   ]
  },
  {
   "cell_type": "markdown",
   "id": "43782480",
   "metadata": {},
   "source": [
    "### Cleaning Note:\n",
    "\n",
    "While the columns not the \"prettiest\", don't adjust any of them just yet. We are going to update some values and add some values as we workthrough this notebook. Applologies for the extra visual \"noise\" on your screen. You will be given the option to tidy up the columns at the end of this notebook."
   ]
  },
  {
   "cell_type": "markdown",
   "id": "11789dff",
   "metadata": {},
   "source": [
    "## Running Tables Note:  \n",
    "If your tables don't appear to have accepted your changes, try the \"Run All\" option in the \"Cell\" section of the menu bar.  "
   ]
  },
  {
   "cell_type": "markdown",
   "id": "bedfd1c5",
   "metadata": {},
   "source": [
    "<span style=\"background-color:dodgerblue; color:dodgerblue;\">- - - - - - - - - - - - - - - - - - - - - - - - - - - - - - - - - - - - - - - - - - - - - - - - - - - - - - - - - - - - - - - - - - - - - - - - - - - - - - - - - - - - - - - - -</span> "
   ]
  },
  {
   "cell_type": "markdown",
   "id": "0948036e",
   "metadata": {},
   "source": [
    "# A. Aggregation"
   ]
  },
  {
   "cell_type": "markdown",
   "id": "0aff6a1a",
   "metadata": {},
   "source": [
    "### 1: Groupby <span style=\"color:dodgerblue;\"> - - - - - - - - - - - - - - - - - - - - - - - - - - - - - - - - - - - - - - - - - - - - - - - - - - - </span> "
   ]
  },
  {
   "cell_type": "markdown",
   "id": "6dfa3774",
   "metadata": {},
   "source": [
    "#### Groupby \"embark_town\"\n",
    "\n",
    "1. Using the titanic data set, groupby \"embark_town\".\n",
    "1. Create a variable that will represent the grouping of data. \n",
    "1. Intitalize it using the groupby() function and pass it the column."
   ]
  },
  {
   "cell_type": "code",
   "execution_count": null,
   "id": "0a3c3abc",
   "metadata": {},
   "outputs": [],
   "source": [
    "#SOLUTION\n",
    "data_group = data.groupby(\"embark_town\") \n",
    "data_group.first() # to check the table\n",
    "# Need to use first to see the organization of the table"
   ]
  },
  {
   "cell_type": "markdown",
   "id": "9c27a2e3",
   "metadata": {},
   "source": [
    "#### Groupby \"survived\"\n",
    "\n",
    "Did you know that you can also chain on some of our exploratory methods to the groupby method?\n",
    "\n",
    "1. Create & initalize a new variable to hold a table that will groupby \"survived\" \n",
    "1. Use method chaining to tack on the describe method"
   ]
  },
  {
   "cell_type": "code",
   "execution_count": null,
   "id": "3ff397c1",
   "metadata": {},
   "outputs": [],
   "source": [
    "# SOLUTION\n",
    "survive_group = data.groupby(\"survived\").describe()"
   ]
  },
  {
   "cell_type": "markdown",
   "id": "c728b083",
   "metadata": {},
   "source": [
    "### 2. Aggregation Methods <span style=\"color:dodgerblue;\"> - - - - - - - - - - - - - - - - - - - - - - - - - - - - - - - - - - - - - - - - - - - - - - - - - - - </span> "
   ]
  },
  {
   "cell_type": "markdown",
   "id": "105f4293",
   "metadata": {},
   "source": [
    "#### Method Chaining\n",
    "\n",
    "1. Create a variable to method chain **head()** and **agg()** togehter.\n",
    "1. Pass one of the following statistical values to **agg()**\n",
    "   - \"mean\", \"median\", \"mode\", \"min\", \"max\", \"std\", \"var\", \"first\", \"last\", \"sum\""
   ]
  },
  {
   "cell_type": "code",
   "execution_count": null,
   "id": "5c5d47eb",
   "metadata": {},
   "outputs": [],
   "source": [
    "#SOLUTION -- will vary based on which they choose\n",
    "mean_data = data_group.head().agg('mean', numeric_only=True) \n",
    "mean_data.head()"
   ]
  },
  {
   "cell_type": "markdown",
   "id": "7810ebff",
   "metadata": {},
   "source": [
    "3. Create a variable to method chain head() with agg(\"sum\")"
   ]
  },
  {
   "cell_type": "code",
   "execution_count": null,
   "id": "f4f62cbb",
   "metadata": {},
   "outputs": [],
   "source": [
    "# SOLUTION\n",
    "sum_data = data_group.head().agg(\"sum\", numeric_only=True)\n",
    "sum_data.head()"
   ]
  },
  {
   "cell_type": "code",
   "execution_count": null,
   "id": "31e75a5b",
   "metadata": {},
   "outputs": [],
   "source": [
    "# Explain the sum table.  What is going on with the \"sex\", \"class\", and \"alive\" columns?\n",
    "\n",
    "   # Cannot sum string values, instead they are concatenated"
   ]
  },
  {
   "cell_type": "markdown",
   "id": "bd773103",
   "metadata": {},
   "source": [
    "#### Aggregation across muliple columns using dictionary functionality\n",
    "\n",
    "##### Syntax Example:\n",
    "\n",
    "**age_dictionary={\"age\":[\"sum\", \"max\"]}**"
   ]
  },
  {
   "cell_type": "markdown",
   "id": "e8d37cd4",
   "metadata": {},
   "source": [
    "1. What if we want to look at more than one column at a time?  We pass more dictionaries to the agg function.\n",
    "1. Create a variable to hold at least 3 columns.  Use the syntax from the \"Syntax Example\" as a guide.\n",
    "    - Aggregate the following:  survived: \"sum\" & \"count\"; age: \"std\" & \"min\", and sibsp: \"count\" & \"sum\""
   ]
  },
  {
   "cell_type": "code",
   "execution_count": null,
   "id": "09b07b1e",
   "metadata": {},
   "outputs": [],
   "source": [
    "#SOLUTION\n",
    "test_dictionary={\"survived\": [\"sum\", \"count\"], \n",
    "                 \"age\": [\"std\", \"min\"], \n",
    "                 \"sibsp\": [\"count\",\"sum\"]\n",
    "                }\n",
    "\n",
    "dictionary_agg=data.agg(test_dictionary)"
   ]
  },
  {
   "cell_type": "markdown",
   "id": "4036319f",
   "metadata": {},
   "source": [
    "### 3. Groupby and Basic Math <span style=\"color:dodgerblue;\"> - - - - - - - - - - - - - - - - - - - - - - - - - - - - - - - - - - - - - - - - - - - - - - - - - - - </span> \n",
    "\n",
    "1. Groupby \"pclass\".  Make sure you use a variable to hold your grouped data."
   ]
  },
  {
   "cell_type": "code",
   "execution_count": null,
   "id": "477b5257",
   "metadata": {},
   "outputs": [],
   "source": [
    "#SOLUTION\n",
    "num_only_data = data.select_dtypes(include='number')\n",
    "\n",
    "passenger_class = num_only_data.groupby(['pclass'])  \n",
    "passenger_class.first()"
   ]
  },
  {
   "cell_type": "markdown",
   "id": "91268cb6",
   "metadata": {},
   "source": [
    "### 4. Groupby and Multiple Aggregations <span style=\"color:dodgerblue;\"> - - - - - - - - - - - - - - - - - - - - - - - - - - - - - - - - - - - - - - - - - - - - - - - - - - - </span> "
   ]
  },
  {
   "cell_type": "markdown",
   "id": "4db45af2",
   "metadata": {},
   "source": [
    "#### Group with a List<span style=\"color:dodgerblue;\"> - - - - - - - - - - - - - - - - - - - - - - - - - - - - - - - - - - - - - - - - - - - - - - - - - - - </span>"
   ]
  },
  {
   "cell_type": "markdown",
   "id": "13733ee5",
   "metadata": {},
   "source": [
    "1. We want to do muliple aggregation functions to our newly grouped data set.  We created a variable to hold a list of functions we want to perform.  These functions are part of the agg method.  When we pass our list to the method, the method will iterate through each item and perform that function for the entire table."
   ]
  },
  {
   "cell_type": "code",
   "execution_count": null,
   "id": "028fe4c8",
   "metadata": {},
   "outputs": [],
   "source": [
    "# SOLUTION\n",
    "agg_func_list = ['sum', 'mean', 'median', 'min', 'max', 'std', 'var', 'first', 'last', 'count']\n",
    "passenger_class.agg(agg_func_list) "
   ]
  },
  {
   "cell_type": "markdown",
   "id": "3f8eddf4",
   "metadata": {},
   "source": [
    "#### Group with a Dictionary<span style=\"color:dodgerblue;\"> - - - - - - - - - - - - - - - - - - - - - - - - - - - - - - - - - - - - - - - - - - - - - - - - - - - </span>\n",
    "\n",
    "Using only a list provides us with the entire table.  What if we only want to look at age vs pclass?  \n",
    "\n",
    "We can create a dictionary to hold the age column for us.  The *key* would be the name of our column, and the values our list of functions to preform on that column.  The code would look like this:"
   ]
  },
  {
   "cell_type": "code",
   "execution_count": null,
   "id": "460c85da",
   "metadata": {},
   "outputs": [],
   "source": [
    "agg_func_dict = {\n",
    "    'age':\n",
    "    ['sum', 'mean', 'median', 'min', 'max', 'std', 'var', 'first', 'last', 'count']\n",
    "}\n",
    "# We would run our table like this:\n",
    "passenger_class.agg(agg_func_dict)  "
   ]
  },
  {
   "cell_type": "markdown",
   "id": "dd5dc78c",
   "metadata": {},
   "source": [
    "1. Looking at the *age_func_dict* syntax, create a dictionary variable for the \"survived\" column and pass it to **passenger_class.agg()** in the box below."
   ]
  },
  {
   "cell_type": "code",
   "execution_count": null,
   "id": "1cb7196d",
   "metadata": {},
   "outputs": [],
   "source": [
    "#SOLUTION ---\n",
    "agg_func_dict = {\n",
    "    'survived':\n",
    "    ['sum', 'mean', 'median', 'min', 'max', 'std', 'var', 'first', 'last', 'count']\n",
    "}\n",
    "passenger_class.agg(agg_func_dict) "
   ]
  },
  {
   "cell_type": "markdown",
   "id": "4628dc09",
   "metadata": {},
   "source": [
    "<span style=\"background-color:dodgerblue; color:dodgerblue;\">- - - - - - - - - - - - - - - - - - - - - - - - - - - - - - - - - - - - - - - - - - - - - - - - - - - - - - - - - - - - - - - - - - - - - - - - - - - - - - - - - - - - - - - - -</span> "
   ]
  },
  {
   "cell_type": "markdown",
   "id": "7e825467",
   "metadata": {},
   "source": [
    "# B. Recoding and Creating New Values and Variables "
   ]
  },
  {
   "cell_type": "code",
   "execution_count": null,
   "id": "0ed6ce8e",
   "metadata": {},
   "outputs": [],
   "source": [
    "#SOLUTION\n",
    "data[\"fare_2021\"] = (data[\"fare\"] * 117.17)  \n",
    "data.head()"
   ]
  },
  {
   "cell_type": "markdown",
   "id": "df699d94",
   "metadata": {},
   "source": [
    "### Replacing Values <span style=\"color:dodgerblue;\"> - - - - - - - - - - - - - - - - - - - - - - - - - - - - - - - - - - - - - - - - - - - - - - - - - - - </span> \n",
    "Replace the values in the \"alive\" coloum from string \"yes\" or \"no\" to bools, where \"yes\" becomes True and \"no\" becomes False."
   ]
  },
  {
   "cell_type": "code",
   "execution_count": null,
   "id": "a9d7e701",
   "metadata": {},
   "outputs": [],
   "source": [
    "# SOLUTION\n",
    "data[\"alive\"] = data[\"alive\"].replace({\"yes\":True, \"no\":False})\n",
    "data.head()"
   ]
  },
  {
   "cell_type": "markdown",
   "id": "a5ad739d",
   "metadata": {},
   "source": [
    "We can also use functions to update values.  \n",
    "\n",
    "1. Create a function that will set the alive values as bools.  Apply it to your table and run your table here:"
   ]
  },
  {
   "cell_type": "code",
   "execution_count": null,
   "id": "35a3c862",
   "metadata": {},
   "outputs": [],
   "source": [
    "# SOLUTION\n",
    "def set_alive_to_number(series):\n",
    "    if series == \"yes\":\n",
    "        return True\n",
    "    else:\n",
    "        return False\n",
    "    \n",
    "data[\"alive\"] = data[\"alive\"].apply(set_alive_to_number) \n",
    "data.head()"
   ]
  },
  {
   "cell_type": "markdown",
   "id": "72e6b773",
   "metadata": {},
   "source": [
    "### Using a function to create a new column <span style=\"color:dodgerblue;\"> - - - - - - - - - - - - - - - - - - - - - - - - - - - - - - - - - - - - - - - - - - - - - - - - - - - </span> \n",
    "\n",
    "Sometimes you might want to create a new column based on combining multiple columns together.\n",
    "\n",
    "1. create an \"age_group\" column that breaks years up as 0-19, 20-29, 30-39, etc until all given ages are covered.  Make sure you check to see where you can stop counting by 10s."
   ]
  },
  {
   "cell_type": "code",
   "execution_count": null,
   "id": "2c7ea79a",
   "metadata": {},
   "outputs": [],
   "source": [
    "#SOLUTION\n",
    "\n",
    "age_check = data[\"age\"].agg(\"max\")\n",
    "age_check\n",
    "\n",
    "def age_groups(series):\n",
    "    if series <20:\n",
    "        return \"0-19 years\"\n",
    "    elif 20 <= series < 30:\n",
    "        return \"20-29 years\"\n",
    "    elif 30 <= series < 40:\n",
    "        return \"30-39 years\"\n",
    "    elif 40 <= series < 50:\n",
    "        return \"40-49 years\"\n",
    "    elif 50 <= series < 60:\n",
    "        return \"50-59 years\"\n",
    "    elif 60 <= series < 70:\n",
    "        return \"60-69 years\"\n",
    "    elif 70 <= series < 80:\n",
    "        return \"70-79 years\"\n",
    "    elif 80 <= series < 90:\n",
    "        return \"80-89 years\"\n",
    "    else:\n",
    "        return \"no data\"\n",
    "    \n",
    "data[\"age_group\"] = data[\"age\"].apply(age_groups) \n",
    "data.head()"
   ]
  },
  {
   "cell_type": "markdown",
   "id": "bf8aadcb",
   "metadata": {},
   "source": [
    "<span style=\"background-color:dodgerblue; color:dodgerblue;\">- - - - - - - - - - - - - - - - - - - - - - - - - - - - - - - - - - - - - - - - - - - - - - - - - - - - - - - - - - - - - - - - - - - - - - - - - - - - - - - - - - - - - - - - -</span> "
   ]
  },
  {
   "cell_type": "markdown",
   "id": "5760d2ed",
   "metadata": {},
   "source": [
    "# C. Reshaping Tables"
   ]
  },
  {
   "cell_type": "markdown",
   "id": "51f7bb49",
   "metadata": {},
   "source": [
    "### Sort_values <span style=\"color:dodgerblue;\"> - - - - - - - - - - - - - - - - - - - - - - - - - - - - - - - - - - - - - - - - - - - - - - - - - - - </span> "
   ]
  },
  {
   "cell_type": "markdown",
   "id": "1dc24325",
   "metadata": {},
   "source": [
    "Use **sort_values()** to answer the following question:\n",
    "> What is the age of the person who paid the highest fare?\n",
    "\n",
    "Hint: We want to see the highest fare value first. What order would we want? ascending or descending?  Check the [documentation](https://pandas.pydata.org/docs/reference/api/pandas.DataFrame.sort_values.html?highlight=sort_values#pandas.DataFrame.sort_values) for the syntax."
   ]
  },
  {
   "cell_type": "code",
   "execution_count": null,
   "id": "d775528e",
   "metadata": {},
   "outputs": [],
   "source": [
    "#SOLUTION\n",
    "sort_data = data.sort_values(by=[\"who\",\"age\"], ascending = False)\n",
    "sort_data.head()"
   ]
  },
  {
   "cell_type": "markdown",
   "id": "f26d665d",
   "metadata": {},
   "source": [
    "### pivot_table <span style=\"color:dodgerblue;\"> - - - - - - - - - - - - - - - - - - - - - - - - - - - - - - - - - - - - - - - - - - - - - - - - - - - </span> \n",
    "1. pivot the table of the summed data where the values are \"fare\", index is \"who\" and \"age_group\", and the columns are \"survived\"\n",
    "\n",
    "Hint: set the aggfunc parameter to np.sum\n",
    "\n",
    "\n"
   ]
  },
  {
   "cell_type": "code",
   "execution_count": null,
   "id": "cc6deba4",
   "metadata": {},
   "outputs": [],
   "source": [
    "#SOLUTION\n",
    "data_pt = data.pivot_table(\"fare\", [\"who\", \"age_group\"], \"survived\", aggfunc = 'sum') \n",
    "data_pt.head()"
   ]
  },
  {
   "cell_type": "markdown",
   "id": "b627557a",
   "metadata": {},
   "source": [
    "### Wide to Long <span style=\"color:dodgerblue;\"> - - - - - - - - - - - - - - - - - - - - - - - - - - - - - - - - - - - - - - - - - - - - - - - - - - - </span> \n",
    "\n",
    "1. Create a table where the columns are \"who\" and the values are \"pclass\"\n",
    "1. Answer the question:  How does this table differ from the pivot_table above?  Specifically, how is \"who\" different?"
   ]
  },
  {
   "cell_type": "code",
   "execution_count": null,
   "id": "c6f05a93",
   "metadata": {},
   "outputs": [],
   "source": [
    "# SOLUTION\n",
    "wide_long = data.pivot(columns=\"who\", values=\"age_group\")\n",
    "wide_long.head()\n",
    "\n",
    "# Question - how does this table differ from data_pt in the box above?\n",
    "    #Specifically, how is who different?  \n",
    "    # SOLUTION - using pivot, \"who\" created the columns, using pivot_table (above) \"who\" created the index"
   ]
  },
  {
   "cell_type": "markdown",
   "id": "1788ebc0",
   "metadata": {},
   "source": [
    "### Melt <span style=\"color:dodgerblue;\"> - - - - - - - - - - - - - - - - - - - - - - - - - - - - - - - - - - - - - - - - - - - - - - - - - - - </span> "
   ]
  },
  {
   "cell_type": "markdown",
   "id": "9b2ebcff",
   "metadata": {},
   "source": [
    "1.  What does **melt** to the data?  Explain each column."
   ]
  },
  {
   "cell_type": "code",
   "execution_count": null,
   "id": "232e2249",
   "metadata": {},
   "outputs": [],
   "source": [
    "# What does melt do?\n",
    "   # converts a wide table to a long table "
   ]
  },
  {
   "cell_type": "markdown",
   "id": "f43c9080",
   "metadata": {},
   "source": [
    "2. With a new variable, apply a default melt to your data."
   ]
  },
  {
   "cell_type": "code",
   "execution_count": null,
   "id": "4cc36832",
   "metadata": {},
   "outputs": [],
   "source": [
    "# SOLUTION\n",
    "# default melt\n",
    "data_m=pd.melt(data)\n",
    "data_m.shape\n",
    "\n",
    "# (15147, 2)\n",
    "\n",
    "data_m.head()\n"
   ]
  },
  {
   "cell_type": "markdown",
   "id": "07b840b9",
   "metadata": {},
   "source": [
    "3. Create a melt table where the index variables are \"embarked\", and the values are \"fare\" and \"deck\""
   ]
  },
  {
   "cell_type": "code",
   "execution_count": null,
   "id": "8c6e4a20",
   "metadata": {},
   "outputs": [],
   "source": [
    "# SOLUTION\n",
    "data_melt = pd.melt(data, id_vars=[\"embarked\"], value_vars=[\"fare\", \"deck\"])\n",
    "data_melt.shape \n",
    "\n",
    "data_melt.head()\n"
   ]
  },
  {
   "cell_type": "markdown",
   "id": "656e9d7f",
   "metadata": {},
   "source": [
    "# Optonal Challenges:\n",
    "\n",
    "1. Clean and Explore the table.  \n",
    "    1. How would you handle any missing data?\n",
    "    1. Would you keep all of the columns?\n",
    "    1. Would you want to manipulate any data?"
   ]
  },
  {
   "cell_type": "code",
   "execution_count": null,
   "id": "1e6d4977",
   "metadata": {},
   "outputs": [],
   "source": []
  }
 ],
 "metadata": {
  "kernelspec": {
   "display_name": "Python 3 (ipykernel)",
   "language": "python",
   "name": "python3"
  },
  "language_info": {
   "codemirror_mode": {
    "name": "ipython",
    "version": 3
   },
   "file_extension": ".py",
   "mimetype": "text/x-python",
   "name": "python",
   "nbconvert_exporter": "python",
   "pygments_lexer": "ipython3",
   "version": "3.9.6"
  }
 },
 "nbformat": 4,
 "nbformat_minor": 5
}
