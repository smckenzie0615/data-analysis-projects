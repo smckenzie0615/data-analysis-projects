{
 "cells": [
  {
   "cell_type": "markdown",
   "metadata": {},
   "source": [
    "# Cleaning Data with Pandas Exercises\n",
    "\n",
    "For the exercises, you will be cleaning data in the Women's Clothing E-Commerce Reviews dataset.\n",
    "\n",
    "To start cleaning data, we first need to create a dataframe from the CSV and print out any relevant info to make sure our dataframe is ready to go."
   ]
  },
  {
   "cell_type": "code",
   "execution_count": 11,
   "metadata": {},
   "outputs": [
    {
     "name": "stdout",
     "output_type": "stream",
     "text": [
      "   Unnamed: 0  Clothing ID  Age                    Title  \\\n",
      "0           0          767   33                      NaN   \n",
      "1           1         1080   34                      NaN   \n",
      "2           2         1077   60  Some major design flaws   \n",
      "3           3         1049   50         My favorite buy!   \n",
      "4           4          847   47         Flattering shirt   \n",
      "\n",
      "                                         Review Text  Rating  Recommended IND  \\\n",
      "0  Absolutely wonderful - silky and sexy and comf...       4                1   \n",
      "1  Love this dress!  it's sooo pretty.  i happene...       5                1   \n",
      "2  I had such high hopes for this dress and reall...       3                0   \n",
      "3  I love, love, love this jumpsuit. it's fun, fl...       5                1   \n",
      "4  This shirt is very flattering to all due to th...       5                1   \n",
      "\n",
      "   Positive Feedback Count   Division Name Department Name Class Name  \n",
      "0                        0       Initmates        Intimate  Intimates  \n",
      "1                        4         General         Dresses    Dresses  \n",
      "2                        0         General         Dresses    Dresses  \n",
      "3                        0  General Petite         Bottoms      Pants  \n",
      "4                        6         General            Tops    Blouses  \n"
     ]
    }
   ],
   "source": [
    "# Import pandas and any other libraries you need here.\n",
    "import pandas as pd\n",
    "\n",
    "\n",
    "# Create a new dataframe from your CSV\n",
    "df = pd.read_csv(\"Womens Clothing E-Commerce Reviews.csv\")\n",
    "print(df.head())"
   ]
  },
  {
   "cell_type": "code",
   "execution_count": 12,
   "metadata": {},
   "outputs": [
    {
     "name": "stdout",
     "output_type": "stream",
     "text": [
      "<class 'pandas.core.frame.DataFrame'>\n",
      "RangeIndex: 23486 entries, 0 to 23485\n",
      "Data columns (total 11 columns):\n",
      " #   Column                   Non-Null Count  Dtype \n",
      "---  ------                   --------------  ----- \n",
      " 0   Unnamed: 0               23486 non-null  int64 \n",
      " 1   Clothing ID              23486 non-null  int64 \n",
      " 2   Age                      23486 non-null  int64 \n",
      " 3   Title                    19676 non-null  object\n",
      " 4   Review Text              22641 non-null  object\n",
      " 5   Rating                   23486 non-null  int64 \n",
      " 6   Recommended IND          23486 non-null  int64 \n",
      " 7   Positive Feedback Count  23486 non-null  int64 \n",
      " 8   Division Name            23472 non-null  object\n",
      " 9   Department Name          23472 non-null  object\n",
      " 10  Class Name               23472 non-null  object\n",
      "dtypes: int64(6), object(5)\n",
      "memory usage: 2.0+ MB\n",
      "None\n"
     ]
    }
   ],
   "source": [
    "# Print out any information you need to understand your dataframe\n",
    "print(df.info())\n"
   ]
  },
  {
   "cell_type": "markdown",
   "metadata": {},
   "source": [
    "## Missing Data\n",
    "\n",
    "Try out different methods to locate and resolve missing data."
   ]
  },
  {
   "cell_type": "code",
   "execution_count": 18,
   "metadata": {},
   "outputs": [
    {
     "name": "stdout",
     "output_type": "stream",
     "text": [
      "       Unnamed: 0  Clothing ID    Age  Title  Review Text  Rating  \\\n",
      "0           False        False  False   True        False   False   \n",
      "1           False        False  False   True        False   False   \n",
      "2           False        False  False  False        False   False   \n",
      "3           False        False  False  False        False   False   \n",
      "4           False        False  False  False        False   False   \n",
      "...           ...          ...    ...    ...          ...     ...   \n",
      "23481       False        False  False  False        False   False   \n",
      "23482       False        False  False  False        False   False   \n",
      "23483       False        False  False  False        False   False   \n",
      "23484       False        False  False  False        False   False   \n",
      "23485       False        False  False  False        False   False   \n",
      "\n",
      "       Recommended IND  Positive Feedback Count  Division Name  \\\n",
      "0                False                    False          False   \n",
      "1                False                    False          False   \n",
      "2                False                    False          False   \n",
      "3                False                    False          False   \n",
      "4                False                    False          False   \n",
      "...                ...                      ...            ...   \n",
      "23481            False                    False          False   \n",
      "23482            False                    False          False   \n",
      "23483            False                    False          False   \n",
      "23484            False                    False          False   \n",
      "23485            False                    False          False   \n",
      "\n",
      "       Department Name  Class Name  \n",
      "0                False       False  \n",
      "1                False       False  \n",
      "2                False       False  \n",
      "3                False       False  \n",
      "4                False       False  \n",
      "...                ...         ...  \n",
      "23481            False       False  \n",
      "23482            False       False  \n",
      "23483            False       False  \n",
      "23484            False       False  \n",
      "23485            False       False  \n",
      "\n",
      "[23486 rows x 11 columns]\n"
     ]
    }
   ],
   "source": [
    "# Try to find some missing data!\n",
    "print(df.isna())\n"
   ]
  },
  {
   "cell_type": "code",
   "execution_count": 19,
   "metadata": {},
   "outputs": [
    {
     "name": "stdout",
     "output_type": "stream",
     "text": [
      "       Unnamed: 0  Clothing ID    Age  Title  Review Text  Rating  \\\n",
      "0           False        False  False   True        False   False   \n",
      "1           False        False  False   True        False   False   \n",
      "2           False        False  False  False        False   False   \n",
      "3           False        False  False  False        False   False   \n",
      "4           False        False  False  False        False   False   \n",
      "...           ...          ...    ...    ...          ...     ...   \n",
      "23481       False        False  False  False        False   False   \n",
      "23482       False        False  False  False        False   False   \n",
      "23483       False        False  False  False        False   False   \n",
      "23484       False        False  False  False        False   False   \n",
      "23485       False        False  False  False        False   False   \n",
      "\n",
      "       Recommended IND  Positive Feedback Count  Division Name  \\\n",
      "0                False                    False          False   \n",
      "1                False                    False          False   \n",
      "2                False                    False          False   \n",
      "3                False                    False          False   \n",
      "4                False                    False          False   \n",
      "...                ...                      ...            ...   \n",
      "23481            False                    False          False   \n",
      "23482            False                    False          False   \n",
      "23483            False                    False          False   \n",
      "23484            False                    False          False   \n",
      "23485            False                    False          False   \n",
      "\n",
      "       Department Name  Class Name  \n",
      "0                False       False  \n",
      "1                False       False  \n",
      "2                False       False  \n",
      "3                False       False  \n",
      "4                False       False  \n",
      "...                ...         ...  \n",
      "23481            False       False  \n",
      "23482            False       False  \n",
      "23483            False       False  \n",
      "23484            False       False  \n",
      "23485            False       False  \n",
      "\n",
      "[23486 rows x 11 columns]\n",
      "       Unnamed: 0  Clothing ID  Age  \\\n",
      "0               0          767   33   \n",
      "1               1         1080   34   \n",
      "2               2         1077   60   \n",
      "3               3         1049   50   \n",
      "4               4          847   47   \n",
      "...           ...          ...  ...   \n",
      "23481       23481         1104   34   \n",
      "23482       23482          862   48   \n",
      "23483       23483         1104   31   \n",
      "23484       23484         1084   28   \n",
      "23485       23485         1104   52   \n",
      "\n",
      "                                                   Title  \\\n",
      "0                                                Unknown   \n",
      "1                                                Unknown   \n",
      "2                                Some major design flaws   \n",
      "3                                       My favorite buy!   \n",
      "4                                       Flattering shirt   \n",
      "...                                                  ...   \n",
      "23481                     Great dress for many occasions   \n",
      "23482                         Wish it was made of cotton   \n",
      "23483                              Cute, but see through   \n",
      "23484  Very cute dress, perfect for summer parties an...   \n",
      "23485                    Please make more like this one!   \n",
      "\n",
      "                                             Review Text  Rating  \\\n",
      "0      Absolutely wonderful - silky and sexy and comf...       4   \n",
      "1      Love this dress!  it's sooo pretty.  i happene...       5   \n",
      "2      I had such high hopes for this dress and reall...       3   \n",
      "3      I love, love, love this jumpsuit. it's fun, fl...       5   \n",
      "4      This shirt is very flattering to all due to th...       5   \n",
      "...                                                  ...     ...   \n",
      "23481  I was very happy to snag this dress at such a ...       5   \n",
      "23482  It reminds me of maternity clothes. soft, stre...       3   \n",
      "23483  This fit well, but the top was very see throug...       3   \n",
      "23484  I bought this dress for a wedding i have this ...       3   \n",
      "23485  This dress in a lovely platinum is feminine an...       5   \n",
      "\n",
      "       Recommended IND  Positive Feedback Count   Division Name  \\\n",
      "0                    1                        0       Initmates   \n",
      "1                    1                        4         General   \n",
      "2                    0                        0         General   \n",
      "3                    1                        0  General Petite   \n",
      "4                    1                        6         General   \n",
      "...                ...                      ...             ...   \n",
      "23481                1                        0  General Petite   \n",
      "23482                1                        0  General Petite   \n",
      "23483                0                        1  General Petite   \n",
      "23484                1                        2         General   \n",
      "23485                1                       22  General Petite   \n",
      "\n",
      "      Department Name Class Name  \n",
      "0            Intimate  Intimates  \n",
      "1             Dresses    Dresses  \n",
      "2             Dresses    Dresses  \n",
      "3             Bottoms      Pants  \n",
      "4                Tops    Blouses  \n",
      "...               ...        ...  \n",
      "23481         Dresses    Dresses  \n",
      "23482            Tops      Knits  \n",
      "23483         Dresses    Dresses  \n",
      "23484         Dresses    Dresses  \n",
      "23485         Dresses    Dresses  \n",
      "\n",
      "[23486 rows x 11 columns]\n"
     ]
    }
   ],
   "source": [
    "# Try to find some missing data!\n",
    "print(df.isna());\n",
    "\n",
    "cols = {\"Title\": \"Unknown\"}\n",
    "print(df.fillna(value=cols))"
   ]
  },
  {
   "cell_type": "markdown",
   "metadata": {},
   "source": [
    "Did you find any missing data? What things worked well for you and what did not?"
   ]
  },
  {
   "cell_type": "code",
   "execution_count": null,
   "metadata": {},
   "outputs": [],
   "source": [
    "# Respond to the above questions here: Yes, I did find some missing data. Everything worked well for me, no difficulties."
   ]
  },
  {
   "cell_type": "markdown",
   "metadata": {},
   "source": [
    "## Irregular Data\n",
    "\n",
    "With missing data out of the way, turn your attention to any outliers. Just as we did for missing data, we first need to detect the outliers."
   ]
  },
  {
   "cell_type": "code",
   "execution_count": 20,
   "metadata": {},
   "outputs": [
    {
     "name": "stdout",
     "output_type": "stream",
     "text": [
      "         Unnamed: 0   Clothing ID           Age        Rating  \\\n",
      "count  23486.000000  23486.000000  23486.000000  23486.000000   \n",
      "mean   11742.500000    918.118709     43.198544      4.196032   \n",
      "std     6779.968547    203.298980     12.279544      1.110031   \n",
      "min        0.000000      0.000000     18.000000      1.000000   \n",
      "25%     5871.250000    861.000000     34.000000      4.000000   \n",
      "50%    11742.500000    936.000000     41.000000      5.000000   \n",
      "75%    17613.750000   1078.000000     52.000000      5.000000   \n",
      "max    23485.000000   1205.000000     99.000000      5.000000   \n",
      "\n",
      "       Recommended IND  Positive Feedback Count  \n",
      "count     23486.000000             23486.000000  \n",
      "mean          0.822362                 2.535936  \n",
      "std           0.382216                 5.702202  \n",
      "min           0.000000                 0.000000  \n",
      "25%           1.000000                 0.000000  \n",
      "50%           1.000000                 1.000000  \n",
      "75%           1.000000                 3.000000  \n",
      "max           1.000000               122.000000  \n"
     ]
    }
   ],
   "source": [
    "# Keep an eye out for outliers!\n",
    "print(df.describe())"
   ]
  },
  {
   "cell_type": "markdown",
   "metadata": {},
   "source": [
    "What techniques helped you find outliers? In your opinion, what about the techniques you used made them effective?"
   ]
  },
  {
   "cell_type": "code",
   "execution_count": null,
   "metadata": {},
   "outputs": [],
   "source": [
    "# Make your notes here: I used the function .describe() to help find "
   ]
  },
  {
   "cell_type": "markdown",
   "metadata": {},
   "source": [
    "## Unnecessary Data\n",
    "\n",
    "Unnecessary data could be irrelevant to your analysis or a duplice column. Check out the dataset to see if there is any unnecessary data."
   ]
  },
  {
   "cell_type": "code",
   "execution_count": 22,
   "metadata": {},
   "outputs": [
    {
     "name": "stdout",
     "output_type": "stream",
     "text": [
      "       Unnamed: 0  Clothing ID  Age  \\\n",
      "0               0          767   33   \n",
      "1               1         1080   34   \n",
      "2               2         1077   60   \n",
      "3               3         1049   50   \n",
      "4               4          847   47   \n",
      "...           ...          ...  ...   \n",
      "23481       23481         1104   34   \n",
      "23482       23482          862   48   \n",
      "23483       23483         1104   31   \n",
      "23484       23484         1084   28   \n",
      "23485       23485         1104   52   \n",
      "\n",
      "                                                   Title  Rating  \\\n",
      "0                                                    NaN       4   \n",
      "1                                                    NaN       5   \n",
      "2                                Some major design flaws       3   \n",
      "3                                       My favorite buy!       5   \n",
      "4                                       Flattering shirt       5   \n",
      "...                                                  ...     ...   \n",
      "23481                     Great dress for many occasions       5   \n",
      "23482                         Wish it was made of cotton       3   \n",
      "23483                              Cute, but see through       3   \n",
      "23484  Very cute dress, perfect for summer parties an...       3   \n",
      "23485                    Please make more like this one!       5   \n",
      "\n",
      "       Recommended IND  Positive Feedback Count   Division Name  \\\n",
      "0                    1                        0       Initmates   \n",
      "1                    1                        4         General   \n",
      "2                    0                        0         General   \n",
      "3                    1                        0  General Petite   \n",
      "4                    1                        6         General   \n",
      "...                ...                      ...             ...   \n",
      "23481                1                        0  General Petite   \n",
      "23482                1                        0  General Petite   \n",
      "23483                0                        1  General Petite   \n",
      "23484                1                        2         General   \n",
      "23485                1                       22  General Petite   \n",
      "\n",
      "      Department Name Class Name  \n",
      "0            Intimate  Intimates  \n",
      "1             Dresses    Dresses  \n",
      "2             Dresses    Dresses  \n",
      "3             Bottoms      Pants  \n",
      "4                Tops    Blouses  \n",
      "...               ...        ...  \n",
      "23481         Dresses    Dresses  \n",
      "23482            Tops      Knits  \n",
      "23483         Dresses    Dresses  \n",
      "23484         Dresses    Dresses  \n",
      "23485         Dresses    Dresses  \n",
      "\n",
      "[23486 rows x 10 columns]\n"
     ]
    }
   ],
   "source": [
    "# Look out for unnecessary data!\n",
    "print(df.drop(columns=['Review Text']))"
   ]
  },
  {
   "cell_type": "markdown",
   "metadata": {},
   "source": [
    "Did you find any unnecessary data in your dataset? How did you handle it?"
   ]
  },
  {
   "cell_type": "code",
   "execution_count": null,
   "metadata": {},
   "outputs": [],
   "source": [
    "# Make your notes here. I considered the 'Review Text' column unnecessary. I used drop() function to get rid of it."
   ]
  },
  {
   "cell_type": "markdown",
   "metadata": {},
   "source": [
    "## Inconsistent Data\n",
    "\n",
    "Inconsistent data is likely due to inconsistent formatting and can be addressed by re-formatting all values in a column or row."
   ]
  },
  {
   "cell_type": "code",
   "execution_count": null,
   "metadata": {},
   "outputs": [],
   "source": [
    "# Look out for inconsistent data!"
   ]
  },
  {
   "cell_type": "markdown",
   "metadata": {},
   "source": [
    "Did you find any inconsistent data? What did you do to clean it?"
   ]
  },
  {
   "cell_type": "code",
   "execution_count": null,
   "metadata": {},
   "outputs": [],
   "source": [
    "# Make your notes here! I personally did not see anything inconsistent within this data. "
   ]
  }
 ],
 "metadata": {
  "kernelspec": {
   "display_name": "Python 3 (ipykernel)",
   "language": "python",
   "name": "python3"
  },
  "language_info": {
   "codemirror_mode": {
    "name": "ipython",
    "version": 3
   },
   "file_extension": ".py",
   "mimetype": "text/x-python",
   "name": "python",
   "nbconvert_exporter": "python",
   "pygments_lexer": "ipython3",
   "version": "3.12.5"
  }
 },
 "nbformat": 4,
 "nbformat_minor": 4
}
