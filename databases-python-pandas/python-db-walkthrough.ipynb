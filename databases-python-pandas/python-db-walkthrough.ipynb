{
 "cells": [
  {
   "cell_type": "code",
   "execution_count": 28,
   "id": "880e27fd-018c-4277-97d0-19074e40f34f",
   "metadata": {},
   "outputs": [],
   "source": [
    "# Imports \n",
    "import sqlite3"
   ]
  },
  {
   "cell_type": "code",
   "execution_count": 29,
   "id": "f5ed26b2-ecbe-4362-8d9a-6491a59318ac",
   "metadata": {},
   "outputs": [
    {
     "name": "stdout",
     "output_type": "stream",
     "text": [
      "<sqlite3.Connection object at 0x10595c7b0>\n"
     ]
    }
   ],
   "source": [
    "# Working with and creating new database below for MOVIES\n",
    "movies_db = sqlite3.connect('Movies.db')\n",
    "print(movies_db)"
   ]
  },
  {
   "cell_type": "code",
   "execution_count": 30,
   "id": "3a7b06ab-d11c-4529-8964-4e4e13e82d09",
   "metadata": {
    "scrolled": true
   },
   "outputs": [
    {
     "ename": "OperationalError",
     "evalue": "table movies already exists",
     "output_type": "error",
     "traceback": [
      "\u001b[0;31m---------------------------------------------------------------------------\u001b[0m",
      "\u001b[0;31mOperationalError\u001b[0m                          Traceback (most recent call last)",
      "Cell \u001b[0;32mIn[30], line 4\u001b[0m\n\u001b[1;32m      2\u001b[0m cur \u001b[38;5;241m=\u001b[39m movies_db\u001b[38;5;241m.\u001b[39mcursor()\n\u001b[1;32m      3\u001b[0m \u001b[38;5;66;03m# Script to populate table\u001b[39;00m\n\u001b[0;32m----> 4\u001b[0m \u001b[43mcur\u001b[49m\u001b[38;5;241;43m.\u001b[39;49m\u001b[43mexecutescript\u001b[49m\u001b[43m(\u001b[49m\u001b[38;5;124;43m\"\"\"\u001b[39;49m\n\u001b[1;32m      5\u001b[0m \u001b[38;5;124;43m    BEGIN;\u001b[39;49m\n\u001b[1;32m      6\u001b[0m \u001b[38;5;124;43m    CREATE TABLE movies (title TEXT, genre TEXT, release INTEGER, rt_score INTEGER);\u001b[39;49m\n\u001b[1;32m      7\u001b[0m \u001b[38;5;124;43m    INSERT INTO movies VALUES (\u001b[39;49m\u001b[38;5;124;43m'\u001b[39;49m\u001b[38;5;124;43mInsterstellar\u001b[39;49m\u001b[38;5;124;43m'\u001b[39;49m\u001b[38;5;124;43m, \u001b[39;49m\u001b[38;5;124;43m'\u001b[39;49m\u001b[38;5;124;43mScience Fiction\u001b[39;49m\u001b[38;5;124;43m'\u001b[39;49m\u001b[38;5;124;43m, 2014, 73);\u001b[39;49m\n\u001b[1;32m      8\u001b[0m \u001b[38;5;124;43m    INSERT INTO movies VALUES (\u001b[39;49m\u001b[38;5;124;43m'\u001b[39;49m\u001b[38;5;124;43mPride and Prejudice\u001b[39;49m\u001b[38;5;124;43m'\u001b[39;49m\u001b[38;5;124;43m, \u001b[39;49m\u001b[38;5;124;43m'\u001b[39;49m\u001b[38;5;124;43mNovel\u001b[39;49m\u001b[38;5;124;43m'\u001b[39;49m\u001b[38;5;124;43m, 2005, 87);\u001b[39;49m\n\u001b[1;32m      9\u001b[0m \u001b[38;5;124;43m    INSERT INTO movies VALUES (\u001b[39;49m\u001b[38;5;124;43m'\u001b[39;49m\u001b[38;5;124;43mInception\u001b[39;49m\u001b[38;5;124;43m'\u001b[39;49m\u001b[38;5;124;43m, \u001b[39;49m\u001b[38;5;124;43m'\u001b[39;49m\u001b[38;5;124;43mScience Fiction\u001b[39;49m\u001b[38;5;124;43m'\u001b[39;49m\u001b[38;5;124;43m, 2010, 87);\u001b[39;49m\n\u001b[1;32m     10\u001b[0m \u001b[38;5;124;43m    INSERT INTO movies VALUES (\u001b[39;49m\u001b[38;5;124;43m'\u001b[39;49m\u001b[38;5;124;43mBarbie\u001b[39;49m\u001b[38;5;124;43m'\u001b[39;49m\u001b[38;5;124;43m, \u001b[39;49m\u001b[38;5;124;43m'\u001b[39;49m\u001b[38;5;124;43mComedy\u001b[39;49m\u001b[38;5;124;43m'\u001b[39;49m\u001b[38;5;124;43m, 2023, 88);\u001b[39;49m\n\u001b[1;32m     11\u001b[0m \u001b[38;5;124;43m    INSERT INTO movies VALUES (\u001b[39;49m\u001b[38;5;124;43m'\u001b[39;49m\u001b[38;5;124;43mGood Will Hunting\u001b[39;49m\u001b[38;5;124;43m'\u001b[39;49m\u001b[38;5;124;43m, \u001b[39;49m\u001b[38;5;124;43m'\u001b[39;49m\u001b[38;5;124;43mDrama\u001b[39;49m\u001b[38;5;124;43m'\u001b[39;49m\u001b[38;5;124;43m, 1996, 97);\u001b[39;49m\n\u001b[1;32m     12\u001b[0m \u001b[38;5;124;43m    COMMIT;\u001b[39;49m\n\u001b[1;32m     13\u001b[0m \u001b[38;5;124;43m\"\"\"\u001b[39;49m\u001b[43m)\u001b[49m\n",
      "\u001b[0;31mOperationalError\u001b[0m: table movies already exists"
     ]
    }
   ],
   "source": [
    "## Creating cursor object, using cursor object to create new tables and add table data\n",
    "cur = movies_db.cursor()\n",
    "# Script to populate table\n",
    "cur.executescript(\"\"\"\n",
    "    BEGIN;\n",
    "    CREATE TABLE movies (title TEXT, genre TEXT, release INTEGER, rt_score INTEGER);\n",
    "    INSERT INTO movies VALUES ('Insterstellar', 'Science Fiction', 2014, 73);\n",
    "    INSERT INTO movies VALUES ('Pride and Prejudice', 'Novel', 2005, 87);\n",
    "    INSERT INTO movies VALUES ('Inception', 'Science Fiction', 2010, 87);\n",
    "    INSERT INTO movies VALUES ('Barbie', 'Comedy', 2023, 88);\n",
    "    INSERT INTO movies VALUES ('Good Will Hunting', 'Drama', 1996, 97);\n",
    "    COMMIT;\n",
    "\"\"\")"
   ]
  },
  {
   "cell_type": "code",
   "execution_count": null,
   "id": "b97c46ab-a368-4d41-914b-3a92a7179b7f",
   "metadata": {},
   "outputs": [
    {
     "data": {
      "text/plain": [
       "[('Insterstellar', 'Science Fiction', 2014, 73),\n",
       " ('Pride and Prejudice', 'Novel', 2005, 87),\n",
       " ('Inception', 'Science Fiction', 2010, 87),\n",
       " ('Barbie', 'Comedy', 2023, 88),\n",
       " ('Good Will Hunting', 'Drama', 1996, 97)]"
      ]
     },
     "execution_count": 13,
     "metadata": {},
     "output_type": "execute_result"
    }
   ],
   "source": [
    "# Read table data\n",
    "cur.execute(\"SELECT * FROM movies\").fetchall()"
   ]
  },
  {
   "cell_type": "code",
   "execution_count": null,
   "id": "285b2ce9-4a96-414c-af40-438f40450d45",
   "metadata": {},
   "outputs": [],
   "source": [
    "# Update table data - There was a typo for the release year of Good Will Hunting, lets update this!\n",
    "update_release_year = 1997\n",
    "movie_to_update = 'Good Will Hunting'\n",
    "cur.execute(\"UPDATE movies SET release = ? WHERE title = ?\", [update_release_year, movie_to_update])\n",
    "movies_db.commit()"
   ]
  },
  {
   "cell_type": "code",
   "execution_count": null,
   "id": "e6d0b952-da72-4cfd-a395-7c8e8cdd03ec",
   "metadata": {},
   "outputs": [
    {
     "data": {
      "text/plain": [
       "[('Insterstellar', 'Science Fiction', 2014, 73),\n",
       " ('Pride and Prejudice', 'Novel', 2005, 87),\n",
       " ('Barbie', 'Comedy', 2023, 88),\n",
       " ('Good Will Hunting', 'Drama', 1997, 97)]"
      ]
     },
     "execution_count": 20,
     "metadata": {},
     "output_type": "execute_result"
    }
   ],
   "source": [
    "# Verify Update\n",
    "cur.execute(\"SELECT * FROM movies\").fetchall()"
   ]
  },
  {
   "cell_type": "code",
   "execution_count": null,
   "id": "1800d018-b0af-4179-9680-639398170d85",
   "metadata": {},
   "outputs": [
    {
     "data": {
      "text/plain": [
       "<sqlite3.Cursor at 0x1059b5500>"
      ]
     },
     "execution_count": 21,
     "metadata": {},
     "output_type": "execute_result"
    }
   ],
   "source": [
    "# Delete table data\n",
    "movie_to_delete = 'Inception' # Too many sci fi movies!\n",
    "cur.execute(\"DELETE FROM movies WHERE title = ?\", [movie_to_delete])"
   ]
  },
  {
   "cell_type": "code",
   "execution_count": null,
   "id": "02fcbe24-3b12-4e50-b918-1ef347eda9ec",
   "metadata": {},
   "outputs": [
    {
     "data": {
      "text/plain": [
       "[('Insterstellar', 'Science Fiction', 2014, 73),\n",
       " ('Pride and Prejudice', 'Novel', 2005, 87),\n",
       " ('Barbie', 'Comedy', 2023, 88),\n",
       " ('Good Will Hunting', 'Drama', 1997, 97)]"
      ]
     },
     "execution_count": 22,
     "metadata": {},
     "output_type": "execute_result"
    }
   ],
   "source": [
    "# Confirm movie deleted!\n",
    "cur.execute(\"SELECT * FROM movies\").fetchall()"
   ]
  },
  {
   "cell_type": "code",
   "execution_count": null,
   "id": "959adb19-fb1d-4d87-881e-f34e9d4ab793",
   "metadata": {},
   "outputs": [
    {
     "name": "stdout",
     "output_type": "stream",
     "text": [
      "('Insterstellar',)\n",
      "('Pride and Prejudice',)\n",
      "('Barbie',)\n",
      "('Good Will Hunting',)\n"
     ]
    }
   ],
   "source": [
    "for row in cur.execute('SELECT title FROM movies'):\n",
    "    print(row)"
   ]
  },
  {
   "cell_type": "code",
   "execution_count": null,
   "id": "a688441c-8db9-4646-8041-bc125355ecff",
   "metadata": {},
   "outputs": [],
   "source": [
    "# MAKE SURE to close the db connection when we're done with it.\n",
    "## Leaving open connections hanging around can cause our database to be locked \n",
    "movies_db.close()"
   ]
  }
 ],
 "metadata": {
  "kernelspec": {
   "display_name": "Python 3 (ipykernel)",
   "language": "python",
   "name": "python3"
  },
  "language_info": {
   "codemirror_mode": {
    "name": "ipython",
    "version": 3
   },
   "file_extension": ".py",
   "mimetype": "text/x-python",
   "name": "python",
   "nbconvert_exporter": "python",
   "pygments_lexer": "ipython3",
   "version": "3.9.6"
  }
 },
 "nbformat": 4,
 "nbformat_minor": 5
}
